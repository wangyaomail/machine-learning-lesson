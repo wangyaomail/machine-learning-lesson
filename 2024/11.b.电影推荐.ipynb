{
 "cells": [
  {
   "cell_type": "code",
   "id": "initial_id",
   "metadata": {
    "collapsed": true,
    "ExecuteTime": {
     "end_time": "2024-05-27T08:56:59.675487Z",
     "start_time": "2024-05-27T08:56:58.883683Z"
    }
   },
   "source": [
    "import matplotlib.pyplot as plt\n",
    "import numpy as np\n",
    "import pandas as pd\n",
    "import sklearn"
   ],
   "outputs": [],
   "execution_count": 1
  },
  {
   "metadata": {
    "ExecuteTime": {
     "end_time": "2024-05-27T09:04:15.075297Z",
     "start_time": "2024-05-27T09:04:12.719984Z"
    }
   },
   "cell_type": "code",
   "source": [
    "ratings = pd.read_csv(\"C:\\\\share\\\\data\\\\ml-1m\\\\ratings.dat\",\n",
    "                      sep=\"::\",\n",
    "                      header=None,\n",
    "                      engine='python',\n",
    "                      names=[\"UserID\", \"MovieID\", \"Rating\", \"Timestamp\"])\n",
    "ratings.dropna(axis=0, inplace=True)\n",
    "ratings"
   ],
   "id": "f3a778f7d3ccc4cd",
   "outputs": [
    {
     "data": {
      "text/plain": [
       "         UserID  MovieID  Rating  Timestamp\n",
       "0             1     1193       5  978300760\n",
       "1             1      661       3  978302109\n",
       "2             1      914       3  978301968\n",
       "3             1     3408       4  978300275\n",
       "4             1     2355       5  978824291\n",
       "...         ...      ...     ...        ...\n",
       "1000204    6040     1091       1  956716541\n",
       "1000205    6040     1094       5  956704887\n",
       "1000206    6040      562       5  956704746\n",
       "1000207    6040     1096       4  956715648\n",
       "1000208    6040     1097       4  956715569\n",
       "\n",
       "[1000209 rows x 4 columns]"
      ],
      "text/html": [
       "<div>\n",
       "<style scoped>\n",
       "    .dataframe tbody tr th:only-of-type {\n",
       "        vertical-align: middle;\n",
       "    }\n",
       "\n",
       "    .dataframe tbody tr th {\n",
       "        vertical-align: top;\n",
       "    }\n",
       "\n",
       "    .dataframe thead th {\n",
       "        text-align: right;\n",
       "    }\n",
       "</style>\n",
       "<table border=\"1\" class=\"dataframe\">\n",
       "  <thead>\n",
       "    <tr style=\"text-align: right;\">\n",
       "      <th></th>\n",
       "      <th>UserID</th>\n",
       "      <th>MovieID</th>\n",
       "      <th>Rating</th>\n",
       "      <th>Timestamp</th>\n",
       "    </tr>\n",
       "  </thead>\n",
       "  <tbody>\n",
       "    <tr>\n",
       "      <th>0</th>\n",
       "      <td>1</td>\n",
       "      <td>1193</td>\n",
       "      <td>5</td>\n",
       "      <td>978300760</td>\n",
       "    </tr>\n",
       "    <tr>\n",
       "      <th>1</th>\n",
       "      <td>1</td>\n",
       "      <td>661</td>\n",
       "      <td>3</td>\n",
       "      <td>978302109</td>\n",
       "    </tr>\n",
       "    <tr>\n",
       "      <th>2</th>\n",
       "      <td>1</td>\n",
       "      <td>914</td>\n",
       "      <td>3</td>\n",
       "      <td>978301968</td>\n",
       "    </tr>\n",
       "    <tr>\n",
       "      <th>3</th>\n",
       "      <td>1</td>\n",
       "      <td>3408</td>\n",
       "      <td>4</td>\n",
       "      <td>978300275</td>\n",
       "    </tr>\n",
       "    <tr>\n",
       "      <th>4</th>\n",
       "      <td>1</td>\n",
       "      <td>2355</td>\n",
       "      <td>5</td>\n",
       "      <td>978824291</td>\n",
       "    </tr>\n",
       "    <tr>\n",
       "      <th>...</th>\n",
       "      <td>...</td>\n",
       "      <td>...</td>\n",
       "      <td>...</td>\n",
       "      <td>...</td>\n",
       "    </tr>\n",
       "    <tr>\n",
       "      <th>1000204</th>\n",
       "      <td>6040</td>\n",
       "      <td>1091</td>\n",
       "      <td>1</td>\n",
       "      <td>956716541</td>\n",
       "    </tr>\n",
       "    <tr>\n",
       "      <th>1000205</th>\n",
       "      <td>6040</td>\n",
       "      <td>1094</td>\n",
       "      <td>5</td>\n",
       "      <td>956704887</td>\n",
       "    </tr>\n",
       "    <tr>\n",
       "      <th>1000206</th>\n",
       "      <td>6040</td>\n",
       "      <td>562</td>\n",
       "      <td>5</td>\n",
       "      <td>956704746</td>\n",
       "    </tr>\n",
       "    <tr>\n",
       "      <th>1000207</th>\n",
       "      <td>6040</td>\n",
       "      <td>1096</td>\n",
       "      <td>4</td>\n",
       "      <td>956715648</td>\n",
       "    </tr>\n",
       "    <tr>\n",
       "      <th>1000208</th>\n",
       "      <td>6040</td>\n",
       "      <td>1097</td>\n",
       "      <td>4</td>\n",
       "      <td>956715569</td>\n",
       "    </tr>\n",
       "  </tbody>\n",
       "</table>\n",
       "<p>1000209 rows × 4 columns</p>\n",
       "</div>"
      ]
     },
     "execution_count": 8,
     "metadata": {},
     "output_type": "execute_result"
    }
   ],
   "execution_count": 8
  },
  {
   "metadata": {
    "ExecuteTime": {
     "end_time": "2024-05-27T09:55:05.128582Z",
     "start_time": "2024-05-27T09:54:55.646903Z"
    }
   },
   "cell_type": "code",
   "source": [
    "ratings2 = pd.DataFrame([[0]], columns=['temp'])\n",
    "movie_names = set()\n",
    "for (idx, row), idxlimit in zip(ratings.iterrows(), range(10000000)):\n",
    "    movie_names.add(row['MovieID'])\n",
    "movie_names_sort = sorted(list(movie_names))\n",
    "ratings2 = pd.DataFrame([], columns=movie_names_sort)\n",
    "# ratings2"
   ],
   "id": "53b3d1ac86fa5d60",
   "outputs": [],
   "execution_count": 62
  },
  {
   "metadata": {
    "ExecuteTime": {
     "end_time": "2024-05-27T09:55:17.363490Z",
     "start_time": "2024-05-27T09:55:05.128582Z"
    }
   },
   "cell_type": "code",
   "source": [
    "user_names = set()\n",
    "for (idx, row), idxlimit in zip(ratings.iterrows(), range(100000000)):\n",
    "    user_names.add(row['UserID'])\n",
    "user_names_sort = sorted(list(user_names))\n",
    "user_names_pd = pd.DataFrame(user_names_sort, columns=['UserID'])\n",
    "ratings2['UserID'] = user_names_pd['UserID']\n",
    "ratings2.fillna(3, inplace=True)\n",
    "# ratings2"
   ],
   "id": "ca02e8cf93d5d994",
   "outputs": [
    {
     "name": "stderr",
     "output_type": "stream",
     "text": [
      "C:\\Users\\wangy\\AppData\\Local\\Temp\\ipykernel_15932\\2131049677.py:10: FutureWarning: Downcasting object dtype arrays on .fillna, .ffill, .bfill is deprecated and will change in a future version. Call result.infer_objects(copy=False) instead. To opt-in to the future behavior, set `pd.set_option('future.no_silent_downcasting', True)`\n",
      "  ratings2.fillna(3, inplace=True)\n"
     ]
    }
   ],
   "execution_count": 63
  },
  {
   "metadata": {
    "ExecuteTime": {
     "end_time": "2024-05-27T09:56:06.092892Z",
     "start_time": "2024-05-27T09:55:19.877070Z"
    }
   },
   "cell_type": "code",
   "source": [
    "ratings3 = ratings2.copy()\n",
    "ratings3.index = ratings3['UserID']\n",
    "ratings3.drop(columns=['UserID'], inplace=True)\n",
    "for (idx, row), idxlimit in zip(ratings.iterrows(), range(100000000)):\n",
    "    ratings3.loc[row['UserID'], row['MovieID']] = row['Rating']\n",
    "ratings3 = (ratings3 - 1) / 4\n",
    "# ratings3"
   ],
   "id": "17a7564a9bed4a17",
   "outputs": [],
   "execution_count": 64
  },
  {
   "metadata": {
    "ExecuteTime": {
     "end_time": "2024-05-27T09:33:50.214880Z",
     "start_time": "2024-05-27T09:33:50.207656Z"
    }
   },
   "cell_type": "code",
   "source": "ratings3.to_csv(\"../temp/ratings3.csv\")",
   "id": "79f9677c66b8f970",
   "outputs": [],
   "execution_count": 27
  },
  {
   "metadata": {
    "ExecuteTime": {
     "end_time": "2024-05-27T09:56:06.613824Z",
     "start_time": "2024-05-27T09:56:06.093895Z"
    }
   },
   "cell_type": "code",
   "source": [
    "from sklearn.decomposition import TruncatedSVD\n",
    "\n",
    "model = TruncatedSVD(n_components=30)\n",
    "model.fit(ratings3)\n",
    "ratings3_svd = model.transform(ratings3)\n",
    "ratings3_svd"
   ],
   "id": "bf0b7fb7648728d0",
   "outputs": [
    {
     "data": {
      "text/plain": [
       "array([[ 3.07042091e+01, -3.58647231e-01, -9.59363386e-02, ...,\n",
       "         1.13333372e-01, -1.00190251e-01,  7.20140551e-02],\n",
       "       [ 3.08362333e+01, -6.53985019e-02, -3.50826069e-01, ...,\n",
       "         1.49949454e-01, -2.33908902e-01,  1.33022886e-01],\n",
       "       [ 3.06314495e+01, -4.14879342e-01, -2.60641762e-01, ...,\n",
       "        -1.43241880e-01, -2.00444112e-01, -2.31777617e-01],\n",
       "       ...,\n",
       "       [ 3.04907130e+01, -8.70982163e-01,  1.42245562e-01, ...,\n",
       "        -4.45846346e-02,  2.72106349e-02, -7.00095153e-02],\n",
       "       [ 3.08929010e+01, -1.55005346e-01,  6.50729825e-01, ...,\n",
       "         8.54186594e-02,  1.14769896e-01,  6.90275939e-02],\n",
       "       [ 3.12949274e+01,  1.00265635e+00,  1.96111912e+00, ...,\n",
       "        -5.08309618e-01,  5.26662509e-02, -1.18827124e-01]])"
      ]
     },
     "execution_count": 65,
     "metadata": {},
     "output_type": "execute_result"
    }
   ],
   "execution_count": 65
  },
  {
   "metadata": {},
   "cell_type": "code",
   "source": [
    "ratings4 = model.inverse_transform(ratings3_svd)\n",
    "ratings4 = pd.DataFrame(ratings4,\n",
    "                        columns=ratings3.columns,\n",
    "                        index=ratings3.index)\n",
    "ratings4"
   ],
   "id": "6b688486116d3211",
   "outputs": [],
   "execution_count": null
  },
  {
   "metadata": {
    "ExecuteTime": {
     "end_time": "2024-05-27T09:56:43.788574Z",
     "start_time": "2024-05-27T09:56:43.328800Z"
    }
   },
   "cell_type": "code",
   "source": [
    "result_pd = pd.DataFrame([], columns=['rec'], index=ratings3.index)\n",
    "test_data = None\n",
    "for (idx, row), (idx2, row2), i in zip(ratings4.iterrows(), ratings3.iterrows(), range(1000)):\n",
    "    # print(row[row2==0.5].sort_values(ascending=False))\n",
    "    test_data = row[row2 == 0.5].sort_values(ascending=False)\n",
    "    result_pd.loc[idx, 'rec'] = \",\".join(\n",
    "        [str(iii) + \":\" + str(rrr)[:5] for iii, rrr, jjj in zip(test_data.index, test_data, range(10))])\n",
    "result_pd"
   ],
   "id": "5377eef71a7d7176",
   "outputs": [
    {
     "data": {
      "text/plain": [
       "                                                                                                                 rec\n",
       "UserID                                                                                                              \n",
       "1            364:0.721,318:0.689,34:0.681,2081:0.675,356:0.647,593:0.644,2080:0.634,1282:0.625,2078:0.624,3751:0.615\n",
       "2          527:0.809,1704:0.726,260:0.695,150:0.693,1961:0.692,1580:0.680,2762:0.679,1097:0.659,780:0.651,1250:0.648\n",
       "3       110:0.661,2628:0.654,2804:0.621,2918:0.620,1270:0.607,1220:0.605,1278:0.603,2716:0.603,2000:0.601,1073:0.597\n",
       "4          858:0.651,589:0.635,1210:0.628,110:0.619,1200:0.615,457:0.610,1291:0.607,1304:0.601,1610:0.597,2571:0.596\n",
       "5         1617:0.679,2762:0.661,3160:0.631,223:0.627,1148:0.618,1673:0.608,1358:0.606,3481:0.605,293:0.598,745:0.596\n",
       "...                                                                                                              ...\n",
       "6036                                                                                                             NaN\n",
       "6037                                                                                                             NaN\n",
       "6038                                                                                                             NaN\n",
       "6039                                                                                                             NaN\n",
       "6040                                                                                                             NaN\n",
       "\n",
       "[6040 rows x 1 columns]"
      ],
      "text/html": [
       "<div>\n",
       "<style scoped>\n",
       "    .dataframe tbody tr th:only-of-type {\n",
       "        vertical-align: middle;\n",
       "    }\n",
       "\n",
       "    .dataframe tbody tr th {\n",
       "        vertical-align: top;\n",
       "    }\n",
       "\n",
       "    .dataframe thead th {\n",
       "        text-align: right;\n",
       "    }\n",
       "</style>\n",
       "<table border=\"1\" class=\"dataframe\">\n",
       "  <thead>\n",
       "    <tr style=\"text-align: right;\">\n",
       "      <th></th>\n",
       "      <th>rec</th>\n",
       "    </tr>\n",
       "    <tr>\n",
       "      <th>UserID</th>\n",
       "      <th></th>\n",
       "    </tr>\n",
       "  </thead>\n",
       "  <tbody>\n",
       "    <tr>\n",
       "      <th>1</th>\n",
       "      <td>364:0.721,318:0.689,34:0.681,2081:0.675,356:0.647,593:0.644,2080:0.634,1282:0.625,2078:0.624,3751:0.615</td>\n",
       "    </tr>\n",
       "    <tr>\n",
       "      <th>2</th>\n",
       "      <td>527:0.809,1704:0.726,260:0.695,150:0.693,1961:0.692,1580:0.680,2762:0.679,1097:0.659,780:0.651,1250:0.648</td>\n",
       "    </tr>\n",
       "    <tr>\n",
       "      <th>3</th>\n",
       "      <td>110:0.661,2628:0.654,2804:0.621,2918:0.620,1270:0.607,1220:0.605,1278:0.603,2716:0.603,2000:0.601,1073:0.597</td>\n",
       "    </tr>\n",
       "    <tr>\n",
       "      <th>4</th>\n",
       "      <td>858:0.651,589:0.635,1210:0.628,110:0.619,1200:0.615,457:0.610,1291:0.607,1304:0.601,1610:0.597,2571:0.596</td>\n",
       "    </tr>\n",
       "    <tr>\n",
       "      <th>5</th>\n",
       "      <td>1617:0.679,2762:0.661,3160:0.631,223:0.627,1148:0.618,1673:0.608,1358:0.606,3481:0.605,293:0.598,745:0.596</td>\n",
       "    </tr>\n",
       "    <tr>\n",
       "      <th>...</th>\n",
       "      <td>...</td>\n",
       "    </tr>\n",
       "    <tr>\n",
       "      <th>6036</th>\n",
       "      <td>NaN</td>\n",
       "    </tr>\n",
       "    <tr>\n",
       "      <th>6037</th>\n",
       "      <td>NaN</td>\n",
       "    </tr>\n",
       "    <tr>\n",
       "      <th>6038</th>\n",
       "      <td>NaN</td>\n",
       "    </tr>\n",
       "    <tr>\n",
       "      <th>6039</th>\n",
       "      <td>NaN</td>\n",
       "    </tr>\n",
       "    <tr>\n",
       "      <th>6040</th>\n",
       "      <td>NaN</td>\n",
       "    </tr>\n",
       "  </tbody>\n",
       "</table>\n",
       "<p>6040 rows × 1 columns</p>\n",
       "</div>"
      ]
     },
     "execution_count": 67,
     "metadata": {},
     "output_type": "execute_result"
    }
   ],
   "execution_count": 67
  },
  {
   "metadata": {
    "ExecuteTime": {
     "end_time": "2024-05-27T09:57:07.359054Z",
     "start_time": "2024-05-27T09:57:07.352057Z"
    }
   },
   "cell_type": "code",
   "source": "result_pd.to_csv(\"../temp/result.csv\")",
   "id": "3f9c77d34c00bd08",
   "outputs": [],
   "execution_count": 68
  }
 ],
 "metadata": {
  "kernelspec": {
   "display_name": "Python 3",
   "language": "python",
   "name": "python3"
  },
  "language_info": {
   "codemirror_mode": {
    "name": "ipython",
    "version": 2
   },
   "file_extension": ".py",
   "mimetype": "text/x-python",
   "name": "python",
   "nbconvert_exporter": "python",
   "pygments_lexer": "ipython2",
   "version": "2.7.6"
  }
 },
 "nbformat": 4,
 "nbformat_minor": 5
}
