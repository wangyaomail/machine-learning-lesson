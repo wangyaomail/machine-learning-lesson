{
 "cells": [
  {
   "cell_type": "code",
   "execution_count": 1,
   "id": "initial_id",
   "metadata": {
    "ExecuteTime": {
     "end_time": "2024-05-30T05:36:45.507603Z",
     "start_time": "2024-05-30T05:36:44.602755Z"
    },
    "collapsed": true,
    "jupyter": {
     "outputs_hidden": true
    }
   },
   "outputs": [],
   "source": [
    "import matplotlib.pyplot as plt\n",
    "import numpy as np\n",
    "import pandas as pd\n",
    "import sklearn"
   ]
  },
  {
   "cell_type": "code",
   "execution_count": 2,
   "id": "fc210cc26fe8a38",
   "metadata": {
    "ExecuteTime": {
     "end_time": "2024-05-30T05:36:01.727799Z",
     "start_time": "2024-05-30T05:36:01.724726Z"
    }
   },
   "outputs": [],
   "source": [
    "# 因为电影和用户太多，不便于计算，挑出打分多的用户和打分多的电影"
   ]
  },
  {
   "cell_type": "code",
   "execution_count": 3,
   "id": "f4d50ebf28c74145",
   "metadata": {
    "ExecuteTime": {
     "end_time": "2024-05-30T05:36:04.184770Z",
     "start_time": "2024-05-30T05:36:01.727799Z"
    }
   },
   "outputs": [
    {
     "name": "stdout",
     "output_type": "stream",
     "text": [
      "(1000209, 4)\n"
     ]
    },
    {
     "data": {
      "text/html": [
       "<div>\n",
       "<style scoped>\n",
       "    .dataframe tbody tr th:only-of-type {\n",
       "        vertical-align: middle;\n",
       "    }\n",
       "\n",
       "    .dataframe tbody tr th {\n",
       "        vertical-align: top;\n",
       "    }\n",
       "\n",
       "    .dataframe thead th {\n",
       "        text-align: right;\n",
       "    }\n",
       "</style>\n",
       "<table border=\"1\" class=\"dataframe\">\n",
       "  <thead>\n",
       "    <tr style=\"text-align: right;\">\n",
       "      <th></th>\n",
       "      <th>UserID</th>\n",
       "      <th>MovieID</th>\n",
       "      <th>Rating</th>\n",
       "      <th>Timestamp</th>\n",
       "    </tr>\n",
       "  </thead>\n",
       "  <tbody>\n",
       "    <tr>\n",
       "      <th>0</th>\n",
       "      <td>1</td>\n",
       "      <td>1193</td>\n",
       "      <td>5</td>\n",
       "      <td>978300760</td>\n",
       "    </tr>\n",
       "    <tr>\n",
       "      <th>1</th>\n",
       "      <td>1</td>\n",
       "      <td>661</td>\n",
       "      <td>3</td>\n",
       "      <td>978302109</td>\n",
       "    </tr>\n",
       "    <tr>\n",
       "      <th>2</th>\n",
       "      <td>1</td>\n",
       "      <td>914</td>\n",
       "      <td>3</td>\n",
       "      <td>978301968</td>\n",
       "    </tr>\n",
       "    <tr>\n",
       "      <th>3</th>\n",
       "      <td>1</td>\n",
       "      <td>3408</td>\n",
       "      <td>4</td>\n",
       "      <td>978300275</td>\n",
       "    </tr>\n",
       "    <tr>\n",
       "      <th>4</th>\n",
       "      <td>1</td>\n",
       "      <td>2355</td>\n",
       "      <td>5</td>\n",
       "      <td>978824291</td>\n",
       "    </tr>\n",
       "    <tr>\n",
       "      <th>5</th>\n",
       "      <td>1</td>\n",
       "      <td>1197</td>\n",
       "      <td>3</td>\n",
       "      <td>978302268</td>\n",
       "    </tr>\n",
       "    <tr>\n",
       "      <th>6</th>\n",
       "      <td>1</td>\n",
       "      <td>1287</td>\n",
       "      <td>5</td>\n",
       "      <td>978302039</td>\n",
       "    </tr>\n",
       "    <tr>\n",
       "      <th>7</th>\n",
       "      <td>1</td>\n",
       "      <td>2804</td>\n",
       "      <td>5</td>\n",
       "      <td>978300719</td>\n",
       "    </tr>\n",
       "    <tr>\n",
       "      <th>8</th>\n",
       "      <td>1</td>\n",
       "      <td>594</td>\n",
       "      <td>4</td>\n",
       "      <td>978302268</td>\n",
       "    </tr>\n",
       "    <tr>\n",
       "      <th>9</th>\n",
       "      <td>1</td>\n",
       "      <td>919</td>\n",
       "      <td>4</td>\n",
       "      <td>978301368</td>\n",
       "    </tr>\n",
       "  </tbody>\n",
       "</table>\n",
       "</div>"
      ],
      "text/plain": [
       "   UserID  MovieID  Rating  Timestamp\n",
       "0       1     1193       5  978300760\n",
       "1       1      661       3  978302109\n",
       "2       1      914       3  978301968\n",
       "3       1     3408       4  978300275\n",
       "4       1     2355       5  978824291\n",
       "5       1     1197       3  978302268\n",
       "6       1     1287       5  978302039\n",
       "7       1     2804       5  978300719\n",
       "8       1      594       4  978302268\n",
       "9       1      919       4  978301368"
      ]
     },
     "execution_count": 3,
     "metadata": {},
     "output_type": "execute_result"
    }
   ],
   "source": [
    "ratings = pd.read_csv(\"C:\\\\share\\\\data\\\\ml-1m\\\\ratings.dat\",\n",
    "                      sep=\"::\",\n",
    "                      header=None,\n",
    "                      engine='python',\n",
    "                      names=[\"UserID\", \"MovieID\", \"Rating\", \"Timestamp\"])\n",
    "ratings.dropna(axis=0, inplace=True)\n",
    "print(ratings.shape)\n",
    "ratings[:10]"
   ]
  },
  {
   "cell_type": "code",
   "execution_count": 4,
   "id": "153e0ae42349aa9",
   "metadata": {
    "ExecuteTime": {
     "end_time": "2024-05-30T05:36:04.203144Z",
     "start_time": "2024-05-30T05:36:04.184770Z"
    }
   },
   "outputs": [
    {
     "data": {
      "text/plain": [
       "(6040, 3706)"
      ]
     },
     "execution_count": 4,
     "metadata": {},
     "output_type": "execute_result"
    }
   ],
   "source": [
    "# 初始状态下，有6000个用户和3700个电影\n",
    "ratings['UserID'].drop_duplicates().size,ratings['MovieID'].drop_duplicates().size,"
   ]
  },
  {
   "cell_type": "code",
   "execution_count": 5,
   "id": "a223d0c5f9980dba",
   "metadata": {
    "ExecuteTime": {
     "end_time": "2024-05-30T05:36:04.318410Z",
     "start_time": "2024-05-30T05:36:04.204149Z"
    }
   },
   "outputs": [
    {
     "data": {
      "image/png": "[encoded data removed]",
      "text/plain": [
       "<Figure size 640x480 with 1 Axes>"
      ]
     },
     "metadata": {},
     "output_type": "display_data"
    }
   ],
   "source": [
    "# 按照打分数量\n",
    "user_rating_count = ratings.groupby(by=\"UserID\").count()['Rating']\n",
    "user_rating_count.plot.hist(bins=50)\n",
    "plt.show()"
   ]
  },
  {
   "cell_type": "code",
   "execution_count": 6,
   "id": "b8bdb0dec4cf2a2e",
   "metadata": {
    "ExecuteTime": {
     "end_time": "2024-05-30T05:36:04.323227Z",
     "start_time": "2024-05-30T05:36:04.318410Z"
    }
   },
   "outputs": [
    {
     "data": {
      "text/plain": [
       "UserID\n",
       "947       20\n",
       "4068      20\n",
       "2530      20\n",
       "341       20\n",
       "5258      20\n",
       "        ... \n",
       "1181    1521\n",
       "1941    1595\n",
       "4277    1743\n",
       "1680    1850\n",
       "4169    2314\n",
       "Name: Rating, Length: 6040, dtype: int64"
      ]
     },
     "execution_count": 6,
     "metadata": {},
     "output_type": "execute_result"
    }
   ],
   "source": [
    "user_rating_count.sort_values()\n",
    "# 大多数用户打分都很少"
   ]
  },
  {
   "cell_type": "code",
   "execution_count": 7,
   "id": "20bcbe1812102c68",
   "metadata": {
    "ExecuteTime": {
     "end_time": "2024-05-30T05:36:04.327415Z",
     "start_time": "2024-05-30T05:36:04.323227Z"
    }
   },
   "outputs": [
    {
     "name": "stdout",
     "output_type": "stream",
     "text": [
      "50 4247\n",
      "100 2909\n",
      "200 1578\n",
      "500 396\n",
      "1000 40\n"
     ]
    }
   ],
   "source": [
    "for thres in [50, 100, 200, 500, 1000]:\n",
    "    print(thres, user_rating_count[user_rating_count >thres].count())\n",
    "# 只有大概400个用户给500个电影打过分，因此再看一下电影被打分的情况"
   ]
  },
  {
   "cell_type": "code",
   "execution_count": 8,
   "id": "123d469bad79ce6c",
   "metadata": {
    "ExecuteTime": {
     "end_time": "2024-05-30T05:36:04.429347Z",
     "start_time": "2024-05-30T05:36:04.327415Z"
    }
   },
   "outputs": [
    {
     "data": {
      "image/png": "[encoded data removed]",
      "text/plain": [
       "<Figure size 640x480 with 1 Axes>"
      ]
     },
     "metadata": {},
     "output_type": "display_data"
    }
   ],
   "source": [
    "movie_rating_count = ratings.groupby(by=\"MovieID\").count()['Rating']\n",
    "movie_rating_count.plot.hist(bins=50)\n",
    "plt.show()"
   ]
  },
  {
   "cell_type": "code",
   "execution_count": 9,
   "id": "abedc32b3f213f3c",
   "metadata": {
    "ExecuteTime": {
     "end_time": "2024-05-30T05:36:04.433757Z",
     "start_time": "2024-05-30T05:36:04.429529Z"
    }
   },
   "outputs": [
    {
     "data": {
      "text/plain": [
       "MovieID\n",
       "402        1\n",
       "2214       1\n",
       "3382       1\n",
       "2217       1\n",
       "2218       1\n",
       "        ... \n",
       "480     2672\n",
       "1210    2883\n",
       "1196    2990\n",
       "260     2991\n",
       "2858    3428\n",
       "Name: Rating, Length: 3706, dtype: int64"
      ]
     },
     "execution_count": 9,
     "metadata": {},
     "output_type": "execute_result"
    }
   ],
   "source": [
    "movie_rating_count.sort_values()\n",
    "# 存在一些电影只有一次打分"
   ]
  },
  {
   "cell_type": "code",
   "execution_count": 10,
   "id": "fc226f5316804f63",
   "metadata": {
    "ExecuteTime": {
     "end_time": "2024-05-30T05:36:04.437320Z",
     "start_time": "2024-05-30T05:36:04.433757Z"
    }
   },
   "outputs": [
    {
     "name": "stdout",
     "output_type": "stream",
     "text": [
      "50 2499\n",
      "100 2006\n",
      "200 1420\n",
      "500 617\n",
      "1000 207\n"
     ]
    }
   ],
   "source": [
    "for thres in [50, 100, 200, 500, 1000]:\n",
    "    print(thres, movie_rating_count[movie_rating_count >thres].count())"
   ]
  },
  {
   "cell_type": "code",
   "execution_count": 11,
   "id": "8486cf01f70b08c7",
   "metadata": {
    "ExecuteTime": {
     "end_time": "2024-05-30T05:36:04.478483Z",
     "start_time": "2024-05-30T05:36:04.437320Z"
    }
   },
   "outputs": [
    {
     "data": {
      "text/html": [
       "<div>\n",
       "<style scoped>\n",
       "    .dataframe tbody tr th:only-of-type {\n",
       "        vertical-align: middle;\n",
       "    }\n",
       "\n",
       "    .dataframe tbody tr th {\n",
       "        vertical-align: top;\n",
       "    }\n",
       "\n",
       "    .dataframe thead th {\n",
       "        text-align: right;\n",
       "    }\n",
       "</style>\n",
       "<table border=\"1\" class=\"dataframe\">\n",
       "  <thead>\n",
       "    <tr style=\"text-align: right;\">\n",
       "      <th></th>\n",
       "      <th>UserID</th>\n",
       "      <th>MovieID</th>\n",
       "      <th>Rating_x</th>\n",
       "      <th>Timestamp</th>\n",
       "      <th>Rating_y</th>\n",
       "    </tr>\n",
       "  </thead>\n",
       "  <tbody>\n",
       "    <tr>\n",
       "      <th>0</th>\n",
       "      <td>1</td>\n",
       "      <td>1193</td>\n",
       "      <td>5</td>\n",
       "      <td>978300760</td>\n",
       "      <td>1725</td>\n",
       "    </tr>\n",
       "    <tr>\n",
       "      <th>1</th>\n",
       "      <td>1</td>\n",
       "      <td>3408</td>\n",
       "      <td>4</td>\n",
       "      <td>978300275</td>\n",
       "      <td>1315</td>\n",
       "    </tr>\n",
       "    <tr>\n",
       "      <th>2</th>\n",
       "      <td>1</td>\n",
       "      <td>2355</td>\n",
       "      <td>5</td>\n",
       "      <td>978824291</td>\n",
       "      <td>1703</td>\n",
       "    </tr>\n",
       "    <tr>\n",
       "      <th>3</th>\n",
       "      <td>1</td>\n",
       "      <td>1197</td>\n",
       "      <td>3</td>\n",
       "      <td>978302268</td>\n",
       "      <td>2318</td>\n",
       "    </tr>\n",
       "    <tr>\n",
       "      <th>4</th>\n",
       "      <td>1</td>\n",
       "      <td>2804</td>\n",
       "      <td>5</td>\n",
       "      <td>978300719</td>\n",
       "      <td>1352</td>\n",
       "    </tr>\n",
       "    <tr>\n",
       "      <th>...</th>\n",
       "      <td>...</td>\n",
       "      <td>...</td>\n",
       "      <td>...</td>\n",
       "      <td>...</td>\n",
       "      <td>...</td>\n",
       "    </tr>\n",
       "    <tr>\n",
       "      <th>305368</th>\n",
       "      <td>6040</td>\n",
       "      <td>2028</td>\n",
       "      <td>5</td>\n",
       "      <td>956704519</td>\n",
       "      <td>2653</td>\n",
       "    </tr>\n",
       "    <tr>\n",
       "      <th>305369</th>\n",
       "      <td>6040</td>\n",
       "      <td>1089</td>\n",
       "      <td>4</td>\n",
       "      <td>956704996</td>\n",
       "      <td>1259</td>\n",
       "    </tr>\n",
       "    <tr>\n",
       "      <th>305370</th>\n",
       "      <td>6040</td>\n",
       "      <td>1090</td>\n",
       "      <td>3</td>\n",
       "      <td>956715518</td>\n",
       "      <td>1143</td>\n",
       "    </tr>\n",
       "    <tr>\n",
       "      <th>305371</th>\n",
       "      <td>6040</td>\n",
       "      <td>1094</td>\n",
       "      <td>5</td>\n",
       "      <td>956704887</td>\n",
       "      <td>1229</td>\n",
       "    </tr>\n",
       "    <tr>\n",
       "      <th>305372</th>\n",
       "      <td>6040</td>\n",
       "      <td>1097</td>\n",
       "      <td>4</td>\n",
       "      <td>956715569</td>\n",
       "      <td>2269</td>\n",
       "    </tr>\n",
       "  </tbody>\n",
       "</table>\n",
       "<p>305373 rows × 5 columns</p>\n",
       "</div>"
      ],
      "text/plain": [
       "        UserID  MovieID  Rating_x  Timestamp  Rating_y\n",
       "0            1     1193         5  978300760      1725\n",
       "1            1     3408         4  978300275      1315\n",
       "2            1     2355         5  978824291      1703\n",
       "3            1     1197         3  978302268      2318\n",
       "4            1     2804         5  978300719      1352\n",
       "...        ...      ...       ...        ...       ...\n",
       "305368    6040     2028         5  956704519      2653\n",
       "305369    6040     1089         4  956704996      1259\n",
       "305370    6040     1090         3  956715518      1143\n",
       "305371    6040     1094         5  956704887      1229\n",
       "305372    6040     1097         4  956715569      2269\n",
       "\n",
       "[305373 rows x 5 columns]"
      ]
     },
     "execution_count": 11,
     "metadata": {},
     "output_type": "execute_result"
    }
   ],
   "source": [
    "# 超过1000次打分的只有207个电影，选出这些电影，再次对用户筛选\n",
    "ratings2 = pd.merge(ratings,movie_rating_count[movie_rating_count >1000],on=['MovieID'],how='inner')\n",
    "ratings2"
   ]
  },
  {
   "cell_type": "code",
   "execution_count": 12,
   "id": "a3ee826b40ef106d",
   "metadata": {
    "ExecuteTime": {
     "end_time": "2024-05-30T05:36:04.489169Z",
     "start_time": "2024-05-30T05:36:04.478483Z"
    }
   },
   "outputs": [
    {
     "name": "stdout",
     "output_type": "stream",
     "text": [
      "50 2304\n",
      "100 839\n",
      "200 2\n",
      "500 0\n",
      "1000 0\n"
     ]
    }
   ],
   "source": [
    "user_rating_count = ratings2.groupby(by=\"UserID\").count()['Rating_x']\n",
    "for thres in [50, 100, 200, 500, 1000]:\n",
    "    print(thres, user_rating_count[user_rating_count >thres].count())"
   ]
  },
  {
   "cell_type": "code",
   "execution_count": 13,
   "id": "47727a854070d68f",
   "metadata": {
    "ExecuteTime": {
     "end_time": "2024-05-30T05:36:04.504585Z",
     "start_time": "2024-05-30T05:36:04.489439Z"
    }
   },
   "outputs": [
    {
     "data": {
      "text/html": [
       "<div>\n",
       "<style scoped>\n",
       "    .dataframe tbody tr th:only-of-type {\n",
       "        vertical-align: middle;\n",
       "    }\n",
       "\n",
       "    .dataframe tbody tr th {\n",
       "        vertical-align: top;\n",
       "    }\n",
       "\n",
       "    .dataframe thead th {\n",
       "        text-align: right;\n",
       "    }\n",
       "</style>\n",
       "<table border=\"1\" class=\"dataframe\">\n",
       "  <thead>\n",
       "    <tr style=\"text-align: right;\">\n",
       "      <th></th>\n",
       "      <th>UserID</th>\n",
       "      <th>MovieID</th>\n",
       "      <th>Rating_x_x</th>\n",
       "      <th>Timestamp</th>\n",
       "      <th>Rating_y</th>\n",
       "      <th>Rating_x_y</th>\n",
       "      <th>Rating</th>\n",
       "    </tr>\n",
       "  </thead>\n",
       "  <tbody>\n",
       "    <tr>\n",
       "      <th>0</th>\n",
       "      <td>10</td>\n",
       "      <td>648</td>\n",
       "      <td>4</td>\n",
       "      <td>978224925</td>\n",
       "      <td>1527</td>\n",
       "      <td>129</td>\n",
       "      <td>4</td>\n",
       "    </tr>\n",
       "    <tr>\n",
       "      <th>1</th>\n",
       "      <td>10</td>\n",
       "      <td>2628</td>\n",
       "      <td>3</td>\n",
       "      <td>978228408</td>\n",
       "      <td>2250</td>\n",
       "      <td>129</td>\n",
       "      <td>3</td>\n",
       "    </tr>\n",
       "    <tr>\n",
       "      <th>2</th>\n",
       "      <td>10</td>\n",
       "      <td>1682</td>\n",
       "      <td>5</td>\n",
       "      <td>978226319</td>\n",
       "      <td>1005</td>\n",
       "      <td>129</td>\n",
       "      <td>5</td>\n",
       "    </tr>\n",
       "    <tr>\n",
       "      <th>3</th>\n",
       "      <td>10</td>\n",
       "      <td>2054</td>\n",
       "      <td>4</td>\n",
       "      <td>978229409</td>\n",
       "      <td>1045</td>\n",
       "      <td>129</td>\n",
       "      <td>4</td>\n",
       "    </tr>\n",
       "    <tr>\n",
       "      <th>4</th>\n",
       "      <td>10</td>\n",
       "      <td>1252</td>\n",
       "      <td>3</td>\n",
       "      <td>979775409</td>\n",
       "      <td>1185</td>\n",
       "      <td>129</td>\n",
       "      <td>3</td>\n",
       "    </tr>\n",
       "    <tr>\n",
       "      <th>...</th>\n",
       "      <td>...</td>\n",
       "      <td>...</td>\n",
       "      <td>...</td>\n",
       "      <td>...</td>\n",
       "      <td>...</td>\n",
       "      <td>...</td>\n",
       "      <td>...</td>\n",
       "    </tr>\n",
       "    <tr>\n",
       "      <th>112297</th>\n",
       "      <td>6040</td>\n",
       "      <td>2028</td>\n",
       "      <td>5</td>\n",
       "      <td>956704519</td>\n",
       "      <td>2653</td>\n",
       "      <td>101</td>\n",
       "      <td>5</td>\n",
       "    </tr>\n",
       "    <tr>\n",
       "      <th>112298</th>\n",
       "      <td>6040</td>\n",
       "      <td>1089</td>\n",
       "      <td>4</td>\n",
       "      <td>956704996</td>\n",
       "      <td>1259</td>\n",
       "      <td>101</td>\n",
       "      <td>4</td>\n",
       "    </tr>\n",
       "    <tr>\n",
       "      <th>112299</th>\n",
       "      <td>6040</td>\n",
       "      <td>1090</td>\n",
       "      <td>3</td>\n",
       "      <td>956715518</td>\n",
       "      <td>1143</td>\n",
       "      <td>101</td>\n",
       "      <td>3</td>\n",
       "    </tr>\n",
       "    <tr>\n",
       "      <th>112300</th>\n",
       "      <td>6040</td>\n",
       "      <td>1094</td>\n",
       "      <td>5</td>\n",
       "      <td>956704887</td>\n",
       "      <td>1229</td>\n",
       "      <td>101</td>\n",
       "      <td>5</td>\n",
       "    </tr>\n",
       "    <tr>\n",
       "      <th>112301</th>\n",
       "      <td>6040</td>\n",
       "      <td>1097</td>\n",
       "      <td>4</td>\n",
       "      <td>956715569</td>\n",
       "      <td>2269</td>\n",
       "      <td>101</td>\n",
       "      <td>4</td>\n",
       "    </tr>\n",
       "  </tbody>\n",
       "</table>\n",
       "<p>112302 rows × 7 columns</p>\n",
       "</div>"
      ],
      "text/plain": [
       "        UserID  MovieID  Rating_x_x  Timestamp  Rating_y  Rating_x_y  Rating\n",
       "0           10      648           4  978224925      1527         129       4\n",
       "1           10     2628           3  978228408      2250         129       3\n",
       "2           10     1682           5  978226319      1005         129       5\n",
       "3           10     2054           4  978229409      1045         129       4\n",
       "4           10     1252           3  979775409      1185         129       3\n",
       "...        ...      ...         ...        ...       ...         ...     ...\n",
       "112297    6040     2028           5  956704519      2653         101       5\n",
       "112298    6040     1089           4  956704996      1259         101       4\n",
       "112299    6040     1090           3  956715518      1143         101       3\n",
       "112300    6040     1094           5  956704887      1229         101       5\n",
       "112301    6040     1097           4  956715569      2269         101       4\n",
       "\n",
       "[112302 rows x 7 columns]"
      ]
     },
     "execution_count": 13,
     "metadata": {},
     "output_type": "execute_result"
    }
   ],
   "source": [
    "# 这次少多了，只保留打过100次的\n",
    "ratings3 = pd.merge(ratings2,user_rating_count[user_rating_count>100],on=['UserID'],how='inner')\n",
    "ratings3['Rating'] = ratings3['Rating_x_x']\n",
    "ratings3"
   ]
  },
  {
   "cell_type": "code",
   "execution_count": 14,
   "id": "6129b7a06422f931",
   "metadata": {
    "ExecuteTime": {
     "end_time": "2024-05-30T05:36:04.578931Z",
     "start_time": "2024-05-30T05:36:04.505591Z"
    }
   },
   "outputs": [],
   "source": [
    "# 此时数据量是800用户，1000电影\n",
    "ratings3[['UserID','MovieID','Rating','Timestamp']].to_csv(\"../temp/ratings_mini.csv\",index=False)"
   ]
  }
 ],
 "metadata": {
  "kernelspec": {
   "display_name": "Python 3 (ipykernel)",
   "language": "python",
   "name": "python3"
  },
  "language_info": {
   "codemirror_mode": {
    "name": "ipython",
    "version": 3
   },
   "file_extension": ".py",
   "mimetype": "text/x-python",
   "name": "python",
   "nbconvert_exporter": "python",
   "pygments_lexer": "ipython3",
   "version": "3.12.3"
  }
 },
 "nbformat": 4,
 "nbformat_minor": 5
}
